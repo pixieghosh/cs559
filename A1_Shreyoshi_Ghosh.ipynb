{
 "cells": [
  {
   "cell_type": "code",
   "execution_count": 1,
   "metadata": {},
   "outputs": [],
   "source": [
    "import numpy as np\n",
    "import pandas as pd\n",
    "import matplotlib.pyplot as plt\n",
    "from sklearn.datasets import fetch_california_housing\n",
    "from sklearn.model_selection import KFold \n",
    "import seaborn as sns"
   ]
  },
  {
   "cell_type": "markdown",
   "metadata": {},
   "source": [
    "1. Please implement a simple linear regression model using the closed-form solution (normal equation) and\n",
    "stochastic gradient descent to train the model on this dataset for predicting the house price (in millions).\n",
    "Split the data into training, validation, and test. Report the mean squared error (MSE) on the test data.\n",
    "Draw the training and validation loss curves. You need to write down every step in your experiment"
   ]
  },
  {
   "cell_type": "markdown",
   "metadata": {},
   "source": [
    "***Approch***\n",
    "\n",
    "Our linear model is $$y(w,X) = w_0 + w_1X_1 + .. + w_mX_m$$\n",
    "\n",
    "For this problem we employ two approaches to fit this model as suggested in the problem statement\n",
    "1. We fit the model using a closed form solution (normal equation) of the form $$w=(X^TX)^{-1}X^Ty$$, where $w$ represents the weight vector (coefficients in the linear model), $X$ is the the feature matrix (input data) and $y$ is the label vector (target variables that we are trying to predict).\n",
    "2. In the second approach we fit the linear model by trying to minimize the cost function via gradient descent. We utilize stochastic gradient descent. Our cost function is the mean squared error of the form $$\\frac{1}{m}\\sum_{i=1}^{m}(y(w,x^{(i)}) - y^{(i)})^2$$ where $m$ is the number of samples.\n",
    "Our stochastic gradient is obtained by calculating the 1st derivative of the cost function for a randomly chosen sample and is of the form $$\\nabla^{(i)} = 2x^{(i)T}(x^{(i)}w - y^{(i)})$$ where $x^{(i)}$ is the randomly chosen sample.\n",
    "Once we obtain the gradient, we update the weights using $$w = w - \\eta.\\nabla^{(i)}$$ where $\\eta$ is the learning rate.\n",
    "\n",
    "***Data preparation steps***\n",
    "1. Once we obtain the data, for our closed form approach we split it into a training and a test set. \n",
    "2. For the gradient descent approach, we split the data into a training, validation and test sets.\n",
    "3. Since linear regression can be sensitive to differing scales in data, we standardize the input columns by subtracting mean and dividing by standard deviation.\n",
    "3. We also stack a column of 1's to the input data to account for the bias term $w_0$\n",
    "\n",
    "***Model fitting and prediction***\n",
    "1. For approach 1, model fitting is simply solving the normal equation for the entire training set. We then predict the test labels using the test set and we calculate error using the mean squared error formula outlined above.\n",
    "2. For approach 2, we run multiple iterations(epochs) and in each iteration we process the entire training set. For each such processing step, we pick a random (stochastic) sample from the training set, calculate the gradient and update the weights as outlined above. \n",
    "3. For each iteration we also calculate the overall training MSE and validation MSE. Finally we plot the training and validation losses, make predictions on the test set and calculate the test MSE as well.\n",
    "4. We have chosen 500 iterations as the total number of epochs for this experiment, but improvements can be made by choosing a higher epoch count and adding a suitable stopping criterion when the validation loss stops decreasing."
   ]
  },
  {
   "cell_type": "code",
   "execution_count": 2,
   "metadata": {},
   "outputs": [
    {
     "data": {
      "text/html": [
       "<div>\n",
       "<style scoped>\n",
       "    .dataframe tbody tr th:only-of-type {\n",
       "        vertical-align: middle;\n",
       "    }\n",
       "\n",
       "    .dataframe tbody tr th {\n",
       "        vertical-align: top;\n",
       "    }\n",
       "\n",
       "    .dataframe thead th {\n",
       "        text-align: right;\n",
       "    }\n",
       "</style>\n",
       "<table border=\"1\" class=\"dataframe\">\n",
       "  <thead>\n",
       "    <tr style=\"text-align: right;\">\n",
       "      <th></th>\n",
       "      <th>MedInc</th>\n",
       "      <th>HouseAge</th>\n",
       "      <th>AveRooms</th>\n",
       "      <th>AveBedrms</th>\n",
       "      <th>Population</th>\n",
       "      <th>AveOccup</th>\n",
       "      <th>Latitude</th>\n",
       "      <th>Longitude</th>\n",
       "    </tr>\n",
       "  </thead>\n",
       "  <tbody>\n",
       "    <tr>\n",
       "      <th>0</th>\n",
       "      <td>8.3252</td>\n",
       "      <td>41.0</td>\n",
       "      <td>6.984127</td>\n",
       "      <td>1.023810</td>\n",
       "      <td>322.0</td>\n",
       "      <td>2.555556</td>\n",
       "      <td>37.88</td>\n",
       "      <td>-122.23</td>\n",
       "    </tr>\n",
       "    <tr>\n",
       "      <th>1</th>\n",
       "      <td>8.3014</td>\n",
       "      <td>21.0</td>\n",
       "      <td>6.238137</td>\n",
       "      <td>0.971880</td>\n",
       "      <td>2401.0</td>\n",
       "      <td>2.109842</td>\n",
       "      <td>37.86</td>\n",
       "      <td>-122.22</td>\n",
       "    </tr>\n",
       "    <tr>\n",
       "      <th>2</th>\n",
       "      <td>7.2574</td>\n",
       "      <td>52.0</td>\n",
       "      <td>8.288136</td>\n",
       "      <td>1.073446</td>\n",
       "      <td>496.0</td>\n",
       "      <td>2.802260</td>\n",
       "      <td>37.85</td>\n",
       "      <td>-122.24</td>\n",
       "    </tr>\n",
       "    <tr>\n",
       "      <th>3</th>\n",
       "      <td>5.6431</td>\n",
       "      <td>52.0</td>\n",
       "      <td>5.817352</td>\n",
       "      <td>1.073059</td>\n",
       "      <td>558.0</td>\n",
       "      <td>2.547945</td>\n",
       "      <td>37.85</td>\n",
       "      <td>-122.25</td>\n",
       "    </tr>\n",
       "    <tr>\n",
       "      <th>4</th>\n",
       "      <td>3.8462</td>\n",
       "      <td>52.0</td>\n",
       "      <td>6.281853</td>\n",
       "      <td>1.081081</td>\n",
       "      <td>565.0</td>\n",
       "      <td>2.181467</td>\n",
       "      <td>37.85</td>\n",
       "      <td>-122.25</td>\n",
       "    </tr>\n",
       "  </tbody>\n",
       "</table>\n",
       "</div>"
      ],
      "text/plain": [
       "   MedInc  HouseAge  AveRooms  AveBedrms  Population  AveOccup  Latitude  \\\n",
       "0  8.3252      41.0  6.984127   1.023810       322.0  2.555556     37.88   \n",
       "1  8.3014      21.0  6.238137   0.971880      2401.0  2.109842     37.86   \n",
       "2  7.2574      52.0  8.288136   1.073446       496.0  2.802260     37.85   \n",
       "3  5.6431      52.0  5.817352   1.073059       558.0  2.547945     37.85   \n",
       "4  3.8462      52.0  6.281853   1.081081       565.0  2.181467     37.85   \n",
       "\n",
       "   Longitude  \n",
       "0    -122.23  \n",
       "1    -122.22  \n",
       "2    -122.24  \n",
       "3    -122.25  \n",
       "4    -122.25  "
      ]
     },
     "execution_count": 2,
     "metadata": {},
     "output_type": "execute_result"
    }
   ],
   "source": [
    "# Load the California Housing dataset\n",
    "housing = fetch_california_housing()\n",
    "x = pd.DataFrame(housing.data, columns=housing.feature_names)\n",
    "y = pd.DataFrame(housing.target, columns=['PRICE'])\n",
    "x.head()"
   ]
  },
  {
   "cell_type": "code",
   "execution_count": 3,
   "metadata": {},
   "outputs": [
    {
     "name": "stdout",
     "output_type": "stream",
     "text": [
      "20640 8\n"
     ]
    }
   ],
   "source": [
    "# train test split\n",
    "num_data = x.shape[0]\n",
    "num_features = x.shape[1]\n",
    "print(num_data,num_features)\n",
    "\n",
    "shuffled = np.random.permutation(num_data)\n",
    "\n",
    "# calculate num of test samples\n",
    "test_set = int(num_data * 0.2)\n",
    "\n",
    "# split indices into test and train\n",
    "test_indices = shuffled[:test_set]\n",
    "train_indices = shuffled[test_set:]\n",
    "\n",
    "# split the data\n",
    "x_train_pre = x.iloc[train_indices]\n",
    "x_test = x.iloc[test_indices]\n",
    "y_train = y.iloc[train_indices]\n",
    "y_test = y.iloc[test_indices]"
   ]
  },
  {
   "cell_type": "code",
   "execution_count": 4,
   "metadata": {},
   "outputs": [
    {
     "name": "stdout",
     "output_type": "stream",
     "text": [
      "16512 8\n"
     ]
    }
   ],
   "source": [
    "# train valid split\n",
    "num_data = x_train_pre.shape[0]\n",
    "num_features = x_train_pre.shape[1]\n",
    "print(num_data,num_features)\n",
    "\n",
    "# shuffling data\n",
    "shuffled = np.random.permutation(num_data)\n",
    "\n",
    "# calculate num of test samples\n",
    "test_set = int(num_data * 0.2)\n",
    "\n",
    "# split indices into test and train\n",
    "test_indices = shuffled[:test_set]\n",
    "train_indices = shuffled[test_set:]\n",
    "\n",
    "# split the data\n",
    "x_train = x_train_pre.iloc[train_indices]\n",
    "x_valid = x_train_pre.iloc[test_indices]\n",
    "y_train = y.iloc[train_indices]\n",
    "y_valid = y.iloc[test_indices]"
   ]
  },
  {
   "cell_type": "code",
   "execution_count": 5,
   "metadata": {},
   "outputs": [],
   "source": [
    "# compute normal equation: w = (x^T x)^(-1) x^T y\n",
    "xtx = np.dot(x_train.T, x_train)  # X^T * X\n",
    "xtx_inv = np.linalg.inv(xtx)              # (X^T * X)^(-1)\n",
    "xty = np.dot(x_train.T, y_train)            # X^T * y\n",
    "\n",
    "# Compute the coefficients (theta)\n",
    "w = np.dot(xtx_inv, xty)"
   ]
  },
  {
   "cell_type": "code",
   "execution_count": 6,
   "metadata": {},
   "outputs": [
    {
     "name": "stdout",
     "output_type": "stream",
     "text": [
      "Mean Squared Error: 1.321230092203056\n"
     ]
    }
   ],
   "source": [
    "# calculating y prediction for test data\n",
    "y_pred_test = np.dot(x_test,w)\n",
    "\n",
    "# MSE\n",
    "mse = np.mean((y_pred_test - y_test) ** 2)\n",
    "print(f'Mean Squared Error: {mse}')"
   ]
  },
  {
   "cell_type": "code",
   "execution_count": 7,
   "metadata": {},
   "outputs": [],
   "source": [
    "# creating standardization function\n",
    "def standardize(x_train):\n",
    "    #calculate mean & std of training set\n",
    "    mean = np.mean(x_train, axis = 0)\n",
    "    sd = np.std(x_train, axis = 0)\n",
    "\n",
    "    # to prevent division by 0, set std = 1 where it is 0\n",
    "    sd[sd==0] = 1\n",
    "\n",
    "    #standardize the training set\n",
    "    x_train_scaled = (x_train - mean) / sd\n",
    "\n",
    "    return x_train_scaled, mean, sd"
   ]
  },
  {
   "cell_type": "code",
   "execution_count": 8,
   "metadata": {},
   "outputs": [],
   "source": [
    "#standardizing data \n",
    "x_train_scaled, mean, sd = standardize(x_train)\n",
    "x_test_scaled = (x_test - mean) / sd\n",
    "x_valid_scaled = (x_valid - mean) / sd"
   ]
  },
  {
   "cell_type": "code",
   "execution_count": 9,
   "metadata": {},
   "outputs": [],
   "source": [
    "# add column of ones to x for intercept term\n",
    "x_train_int_scaled = np.column_stack([np.ones(x_train_scaled.shape[0]), x_train_scaled])\n",
    "x_test_int_scaled = np.column_stack([np.ones(x_test_scaled.shape[0]), x_test_scaled])\n",
    "x_valid_int_scaled = np.column_stack([np.ones(x_valid_scaled.shape[0]), x_valid_scaled])"
   ]
  },
  {
   "cell_type": "code",
   "execution_count": 10,
   "metadata": {},
   "outputs": [],
   "source": [
    "# defining sgd function \n",
    "def sgd(x,y,xval, yval, learning_rate = 0.00001, n_iter = 500):\n",
    "    # storing data shape, initializing parameter\n",
    "    m,n = x.shape\n",
    "    w = np.random.randn(n,1)\n",
    "    y = y.reshape(-1,1)\n",
    "    # creating empty lists for storage\n",
    "    mse_history = []\n",
    "    mse_valid_history = []\n",
    "\n",
    "    for iter in range(n_iter):\n",
    "        for i in range(m):\n",
    "            random_idx = np.random.randint(m)\n",
    "            xi = x[random_idx:random_idx+1]\n",
    "            yi = y[random_idx:random_idx+1]\n",
    "            # compute predicted gradient of loss function\n",
    "            gradients = 2*xi.T.dot(xi.dot(w)-yi)\n",
    "            # update parameter\n",
    "            w = w - learning_rate *gradients\n",
    "\n",
    "        # store train mse \n",
    "        mse = np.mean((x.dot(w) - y) ** 2,axis=0)[0]\n",
    "        mse_history.append(mse)\n",
    "\n",
    "        # store valid mse \n",
    "        mse_valid = np.mean((xval.dot(w) - yval) ** 2, axis=0)[0]\n",
    "        mse_valid_history.append(mse_valid)\n",
    "\n",
    "        if iter % 10 == 0 and iter != 0:\n",
    "            print(f\"Iteration {iter}: MSE = {mse_history[-1]}, {mse_valid_history[-1]} \")\n",
    "            \n",
    "    return w, mse_history, mse_valid_history"
   ]
  },
  {
   "cell_type": "code",
   "execution_count": 11,
   "metadata": {},
   "outputs": [
    {
     "name": "stdout",
     "output_type": "stream",
     "text": [
      "Iteration 10: MSE = 1.3306113199338534, 1.3530387581764127 \n",
      "Iteration 20: MSE = 1.310506837026128, 1.3366301438626111 \n",
      "Iteration 30: MSE = 1.301384212146088, 1.3298494613717737 \n",
      "Iteration 40: MSE = 1.2947952979956703, 1.324745196624922 \n",
      "Iteration 50: MSE = 1.290503949886495, 1.3211598636354906 \n",
      "Iteration 60: MSE = 1.2878262760183585, 1.319181847685343 \n",
      "Iteration 70: MSE = 1.285913521209873, 1.3174038554638159 \n",
      "Iteration 80: MSE = 1.2845750238429, 1.3165857805888492 \n",
      "Iteration 90: MSE = 1.2836793337288692, 1.316304765276699 \n",
      "Iteration 100: MSE = 1.2830405140210608, 1.315975534783687 \n",
      "Iteration 110: MSE = 1.282673233666663, 1.315874258971893 \n",
      "Iteration 120: MSE = 1.2826308721000967, 1.3155707521690505 \n",
      "Iteration 130: MSE = 1.2821677857440892, 1.314889087093523 \n",
      "Iteration 140: MSE = 1.2820579108483332, 1.3155538844787333 \n",
      "Iteration 150: MSE = 1.2820306260473389, 1.314709653770706 \n",
      "Iteration 160: MSE = 1.2819582973633286, 1.3152422281337262 \n",
      "Iteration 170: MSE = 1.281849240904822, 1.3148024449191051 \n",
      "Iteration 180: MSE = 1.281832869983546, 1.3153865356815926 \n",
      "Iteration 190: MSE = 1.2818056825012794, 1.315048674671528 \n",
      "Iteration 200: MSE = 1.2819410882353166, 1.3156387491969705 \n",
      "Iteration 210: MSE = 1.2818456796721642, 1.3146592321308124 \n",
      "Iteration 220: MSE = 1.2818999890547003, 1.314968532225437 \n",
      "Iteration 230: MSE = 1.2817452840577026, 1.314969213747074 \n",
      "Iteration 240: MSE = 1.2818421503988122, 1.3151298443736559 \n",
      "Iteration 250: MSE = 1.2818655496282756, 1.3149476114748648 \n",
      "Iteration 260: MSE = 1.2819348202682082, 1.3150923969006296 \n",
      "Iteration 270: MSE = 1.2817635527608267, 1.314606949104349 \n",
      "Iteration 280: MSE = 1.2818213869480966, 1.3149837847006938 \n",
      "Iteration 290: MSE = 1.281759106111541, 1.314613634110722 \n",
      "Iteration 300: MSE = 1.2818260262529433, 1.3150193654059388 \n",
      "Iteration 310: MSE = 1.2818715625462704, 1.3156195603560297 \n",
      "Iteration 320: MSE = 1.281933491562572, 1.3156343720742316 \n",
      "Iteration 330: MSE = 1.2818524146877606, 1.3145316682537875 \n",
      "Iteration 340: MSE = 1.2818715939005614, 1.3150917074402504 \n",
      "Iteration 350: MSE = 1.2819144011144197, 1.315350282451973 \n",
      "Iteration 360: MSE = 1.2818807264371637, 1.314838858799275 \n",
      "Iteration 370: MSE = 1.281758423585892, 1.3147514876153665 \n",
      "Iteration 380: MSE = 1.2817812346735424, 1.3152242185403527 \n",
      "Iteration 390: MSE = 1.2817845222984925, 1.3147807581120643 \n",
      "Iteration 400: MSE = 1.2817457836758868, 1.314877445350511 \n",
      "Iteration 410: MSE = 1.2818812591357909, 1.3150431325226735 \n",
      "Iteration 420: MSE = 1.2817855098035311, 1.3151856329528249 \n",
      "Iteration 430: MSE = 1.281789724306122, 1.31513937257588 \n",
      "Iteration 440: MSE = 1.2818115443056846, 1.3147353699163042 \n",
      "Iteration 450: MSE = 1.281748183390867, 1.3147832226521778 \n",
      "Iteration 460: MSE = 1.2817454974015328, 1.314592978134108 \n",
      "Iteration 470: MSE = 1.2818874071326767, 1.3147718414928926 \n",
      "Iteration 480: MSE = 1.2817594188973027, 1.3149469124127267 \n",
      "Iteration 490: MSE = 1.2817526699962978, 1.3144626485030986 \n"
     ]
    }
   ],
   "source": [
    "# Train the model using SGD\n",
    "theta_sgd, mse_history, mse_valid_history = sgd(x_train_int_scaled, y_train.values, x_valid_int_scaled, y_valid.values)"
   ]
  },
  {
   "cell_type": "code",
   "execution_count": 12,
   "metadata": {},
   "outputs": [],
   "source": [
    "# Make predictions on the test data\n",
    "y_pred_sgd = np.dot(x_test_int_scaled, theta_sgd)"
   ]
  },
  {
   "cell_type": "code",
   "execution_count": 13,
   "metadata": {},
   "outputs": [
    {
     "name": "stdout",
     "output_type": "stream",
     "text": [
      "SGD Mean Squared Error: 1.3475819549901296\n"
     ]
    }
   ],
   "source": [
    "# evaluate model\n",
    "# Mean Squared Error (MSE)\n",
    "mse_sgd = np.mean((y_pred_sgd - y_test.values) ** 2)\n",
    "print(f\"SGD Mean Squared Error: {mse_sgd}\")"
   ]
  },
  {
   "cell_type": "code",
   "execution_count": 14,
   "metadata": {},
   "outputs": [
    {
     "data": {
      "text/plain": [
       "Text(0, 0.5, 'Loss')"
      ]
     },
     "execution_count": 14,
     "metadata": {},
     "output_type": "execute_result"
    },
    {
     "data": {
      "image/png": "[encoded data removed]",
      "text/plain": [
       "<Figure size 640x480 with 1 Axes>"
      ]
     },
     "metadata": {},
     "output_type": "display_data"
    }
   ],
   "source": [
    "# plot mse test and mse valid\n",
    "ax = sns.lineplot(x = range(0,500), y = mse_history)\n",
    "sns.lineplot(x = range(0,500), y = mse_valid_history, ax = ax)\n",
    "ax.set_xlabel('Epochs')\n",
    "ax.set_ylabel('Loss')"
   ]
  },
  {
   "cell_type": "markdown",
   "metadata": {},
   "source": [
    "2. Please write a Ridge regression model and use mini-batch gradient descent to train the model on this dataset for predicting the count of total rental bikes including both casual and registered. You do not need to use all the features. Use K-fold cross validation and report the mean squared error (MSE) on the test data. You need to write down every step in your experiment."
   ]
  },
  {
   "cell_type": "markdown",
   "metadata": {},
   "source": [
    "***Approch***\n",
    "\n",
    "Our model is $$y(w,X) = w_0 + w_1X_1 + .. + w_mX_m$$\n",
    "\n",
    "For this problem we fit the linear model by trying to minimize the cost function via gradient descent. We utilize mini batch gradient descent. Our cost function is the mean squared error of the form $$\\frac{1}{m}[\\sum_{i=1}^{m}(y(w,X) - y)^2+\\alpha\\sum_{k=1}^{n}w_k^2]$$ where $X$ is the randomly chosen mini batch of size $m$.\n",
    "Our mini batch gradient is obtained by calculating the 1st derivative of the cost function and is of the form $$\\nabla = \\frac{2}{m}[{X^T}(Xw - y) + \\alpha w]$$ .\n",
    "Once we obtain the gradient, we update the weights using $$w = w - \\eta.\\nabla$$ where $\\eta$ is the learning rate.\n",
    "\n",
    "***Data preparation steps***\n",
    "1. Once we obtain the data, we split the data into a training and test sets.\n",
    "3. Since linear regression can be sensitive to differing scales in data, we standardize the input columns by subtracting mean and dividing by standard deviation.\n",
    "3. We also stack a column of 1's to the input data to account for the bias term $w_0$\n",
    "\n",
    "***Model fitting and prediction***\n",
    "1. We run multiple iterations(epochs) and in each iteration we use kfold cross validation with 7 folds. \n",
    "2. For each step in the kfold cross validation, 6 fold are taken as the training set and the last fold is used as validation. For each of these iterations, we process the entire training set. For each such processing step, we take a batch of samples from the training set, calculate the gradient and update the weights as outlined above for each batch. \n",
    "2. For each fold iteration we also calculate the overall training MSE and validation MSE. For each epoch we average the fold level errors. Finally we plot these training and validation losses, make predictions on the test set and calculate the test MSE as well.\n",
    "3. We have chosen 2000 iterations as the total number of epochs for this experiment, but improvements can be made by choosing a higher epoch count and adding a suitable stopping criterion when the validation loss stops decreasing.\n"
   ]
  },
  {
   "cell_type": "code",
   "execution_count": 15,
   "metadata": {},
   "outputs": [
    {
     "name": "stdout",
     "output_type": "stream",
     "text": [
      "{'uci_id': 275, 'name': 'Bike Sharing', 'repository_url': 'https://archive.ics.uci.edu/dataset/275/bike+sharing+dataset', 'data_url': 'https://archive.ics.uci.edu/static/public/275/data.csv', 'abstract': 'This dataset contains the hourly and daily count of rental bikes between years 2011 and 2012 in Capital bikeshare system with the corresponding weather and seasonal information.', 'area': 'Social Science', 'tasks': ['Regression'], 'characteristics': ['Multivariate'], 'num_instances': 17389, 'num_features': 13, 'feature_types': ['Integer', 'Real'], 'demographics': [], 'target_col': ['cnt'], 'index_col': ['instant'], 'has_missing_values': 'no', 'missing_values_symbol': None, 'year_of_dataset_creation': 2013, 'last_updated': 'Sun Mar 10 2024', 'dataset_doi': '10.24432/C5W894', 'creators': ['Hadi Fanaee-T'], 'intro_paper': {'title': 'Event labeling combining ensemble detectors and background knowledge', 'authors': 'Hadi Fanaee-T, João Gama', 'published_in': 'Progress in Artificial Intelligence', 'year': 2013, 'url': 'https://www.semanticscholar.org/paper/bc42899f599d31a5d759f3e0a3ea8b52479d6423', 'doi': '10.1007/s13748-013-0040-3'}, 'additional_info': {'summary': 'Bike sharing systems are new generation of traditional bike rentals where whole process from membership, rental and return back has become automatic. Through these systems, user is able to easily rent a bike from a particular position and return back at another position. Currently, there are about over 500 bike-sharing programs around the world which is composed of over 500 thousands bicycles. Today, there exists great interest in these systems due to their important role in traffic, environmental and health issues. \\r\\n\\r\\nApart from interesting real world applications of bike sharing systems, the characteristics of data being generated by these systems make them attractive for the research. Opposed to other transport services such as bus or subway, the duration of travel, departure and arrival position is explicitly recorded in these systems. This feature turns bike sharing system into a virtual sensor network that can be used for sensing mobility in the city. Hence, it is expected that most of important events in the city could be detected via monitoring these data.', 'purpose': None, 'funded_by': None, 'instances_represent': None, 'recommended_data_splits': None, 'sensitive_data': None, 'preprocessing_description': None, 'variable_info': 'Both hour.csv and day.csv have the following fields, except hr which is not available in day.csv\\r\\n\\t\\r\\n\\t- instant: record index\\r\\n\\t- dteday : date\\r\\n\\t- season : season (1:winter, 2:spring, 3:summer, 4:fall)\\r\\n\\t- yr : year (0: 2011, 1:2012)\\r\\n\\t- mnth : month ( 1 to 12)\\r\\n\\t- hr : hour (0 to 23)\\r\\n\\t- holiday : weather day is holiday or not (extracted from http://dchr.dc.gov/page/holiday-schedule)\\r\\n\\t- weekday : day of the week\\r\\n\\t- workingday : if day is neither weekend nor holiday is 1, otherwise is 0.\\r\\n\\t+ weathersit : \\r\\n\\t\\t- 1: Clear, Few clouds, Partly cloudy, Partly cloudy\\r\\n\\t\\t- 2: Mist + Cloudy, Mist + Broken clouds, Mist + Few clouds, Mist\\r\\n\\t\\t- 3: Light Snow, Light Rain + Thunderstorm + Scattered clouds, Light Rain + Scattered clouds\\r\\n\\t\\t- 4: Heavy Rain + Ice Pallets + Thunderstorm + Mist, Snow + Fog\\r\\n\\t- temp : Normalized temperature in Celsius. The values are derived via (t-t_min)/(t_max-t_min), t_min=-8, t_max=+39 (only in hourly scale)\\r\\n\\t- atemp: Normalized feeling temperature in Celsius. The values are derived via (t-t_min)/(t_max-t_min), t_min=-16, t_max=+50 (only in hourly scale)\\r\\n\\t- hum: Normalized humidity. The values are divided to 100 (max)\\r\\n\\t- windspeed: Normalized wind speed. The values are divided to 67 (max)\\r\\n\\t- casual: count of casual users\\r\\n\\t- registered: count of registered users\\r\\n\\t- cnt: count of total rental bikes including both casual and registered\\r\\n', 'citation': None}}\n",
      "          name     role         type demographic  \\\n",
      "0      instant       ID      Integer        None   \n",
      "1       dteday  Feature         Date        None   \n",
      "2       season  Feature  Categorical        None   \n",
      "3           yr  Feature  Categorical        None   \n",
      "4         mnth  Feature  Categorical        None   \n",
      "5           hr  Feature  Categorical        None   \n",
      "6      holiday  Feature       Binary        None   \n",
      "7      weekday  Feature  Categorical        None   \n",
      "8   workingday  Feature       Binary        None   \n",
      "9   weathersit  Feature  Categorical        None   \n",
      "10        temp  Feature   Continuous        None   \n",
      "11       atemp  Feature   Continuous        None   \n",
      "12         hum  Feature   Continuous        None   \n",
      "13   windspeed  Feature   Continuous        None   \n",
      "14      casual    Other      Integer        None   \n",
      "15  registered    Other      Integer        None   \n",
      "16         cnt   Target      Integer        None   \n",
      "\n",
      "                                          description units missing_values  \n",
      "0                                        record index  None             no  \n",
      "1                                                date  None             no  \n",
      "2                1:winter, 2:spring, 3:summer, 4:fall  None             no  \n",
      "3                             year (0: 2011, 1: 2012)  None             no  \n",
      "4                                     month (1 to 12)  None             no  \n",
      "5                                      hour (0 to 23)  None             no  \n",
      "6   weather day is holiday or not (extracted from ...  None             no  \n",
      "7                                     day of the week  None             no  \n",
      "8   if day is neither weekend nor holiday is 1, ot...  None             no  \n",
      "9   - 1: Clear, Few clouds, Partly cloudy, Partly ...  None             no  \n",
      "10  Normalized temperature in Celsius. The values ...     C             no  \n",
      "11  Normalized feeling temperature in Celsius. The...     C             no  \n",
      "12  Normalized humidity. The values are divided to...  None             no  \n",
      "13  Normalized wind speed. The values are divided ...  None             no  \n",
      "14                              count of casual users  None             no  \n",
      "15                          count of registered users  None             no  \n",
      "16  count of total rental bikes including both cas...  None             no  \n"
     ]
    }
   ],
   "source": [
    "from ucimlrepo import fetch_ucirepo \n",
    "  \n",
    "# fetch dataset \n",
    "bike_sharing = fetch_ucirepo(id=275) \n",
    "  \n",
    "# data (as pandas dataframes) \n",
    "x = bike_sharing.data.features \n",
    "y = bike_sharing.data.targets \n",
    "  \n",
    "# metadata \n",
    "print(bike_sharing.metadata) \n",
    "  \n",
    "# variable information \n",
    "print(bike_sharing.variables) \n",
    "\n",
    "# dropping date column and one hot encoding categoricals (season, yr, mnth, hr, weekday, weathersit)\n",
    "x = x.drop(['dteday', 'yr'], axis = 1)\n",
    "x = pd.get_dummies(data = x, columns = ['season', 'mnth', 'hr', 'weekday', 'weathersit'])"
   ]
  },
  {
   "cell_type": "code",
   "execution_count": 16,
   "metadata": {},
   "outputs": [
    {
     "name": "stdout",
     "output_type": "stream",
     "text": [
      "17379 57\n"
     ]
    }
   ],
   "source": [
    "# train test split\n",
    "num_data = x.shape[0]\n",
    "num_features = x.shape[1]\n",
    "print(num_data,num_features)\n",
    "\n",
    "# shuffling data\n",
    "shuffled = np.random.permutation(num_data)\n",
    "\n",
    "# calculate num of test samples\n",
    "test_set = int(num_data * 0.2)\n",
    "\n",
    "# split indices into test and train\n",
    "test_indices = shuffled[:test_set]\n",
    "train_indices = shuffled[test_set:]\n",
    "\n",
    "# split the data\n",
    "x_train = x.iloc[train_indices]\n",
    "x_test = x.iloc[test_indices]\n",
    "y_train = y.iloc[train_indices]\n",
    "y_test = y.iloc[test_indices]\n",
    "\n",
    "#standardize \n",
    "x_train_scaled, mean, sd = standardize(x_train) \n",
    "x_test_scaled = (x_test - mean) / sd\n",
    "\n",
    "# add column of ones to x for intercept term\n",
    "x_train_int = np.column_stack([np.ones(x_train_scaled.shape[0]), x_train_scaled])\n",
    "x_test_int = np.column_stack([np.ones(x_test_scaled.shape[0]), x_test_scaled])"
   ]
  },
  {
   "cell_type": "code",
   "execution_count": 17,
   "metadata": {},
   "outputs": [],
   "source": [
    "# defining ridge function\n",
    "def ridge(x,y,learning_rate = 0.0001, n_iter = 2000):\n",
    "    # initializing parameter\n",
    "    m,n = x.shape\n",
    "    w = np.random.randn(n,1)\n",
    "    y = y.reshape(-1,1)\n",
    "    # Set some batch_size variable to mini batch size you want per iteration\n",
    "    batch_size = 700 \n",
    "    alpha = 0.0001\n",
    "    # create some lists for overall training loss and validation loss\n",
    "    training_loss = []\n",
    "    valid_loss = []    \n",
    "\n",
    "    for iter in range(n_iter):\n",
    "        # create some lists to hold the losses for each fold loop\n",
    "        fold_training_loss = []\n",
    "        fold_val_loss = []\n",
    "        # Create the KFold()\n",
    "        kf = KFold(n_splits=7, shuffle = True, random_state = 777)\n",
    "\n",
    "        for (training_index, validation_index) in kf.split(x):\n",
    "            # Use the train index to get the training folds from the train_X and train_y data\n",
    "            train_x_fold = x[training_index]\n",
    "            train_y_fold = y[training_index]\n",
    "            \n",
    "            # Use the validation indices to get the validation data from the same train_X and train_y data\n",
    "            valid_x_fold = x[validation_index]\n",
    "            valid_y_fold = y[validation_index]\n",
    "\n",
    "            # calculate batch_count\n",
    "            batch_count = train_x_fold.shape[0]//batch_size + (0 if train_x_fold.shape[0]%batch_size == 0 else 1)\n",
    "\n",
    "            for idx in range(batch_count):\n",
    "                 # Get the batch X data from the train X data fold\n",
    "                batch_x = train_x_fold[idx*batch_size: (idx + 1)*batch_size]\n",
    "\n",
    "                # Get the batch Y data from the train Y data fold\n",
    "                batch_y = train_y_fold[idx*batch_size: (idx + 1)*batch_size]\n",
    "\n",
    "                # calculate your ridge gradient using the ridge forumula\n",
    "                ridge_gradients = (2*batch_x.T.dot(batch_x.dot(w)-batch_y) + 2*np.dot(alpha,w))/batch_x.shape[0]\n",
    "\n",
    "                # update theta\n",
    "                w = w - learning_rate * ridge_gradients\n",
    "\n",
    "            # calculate training loss and validation loss MSE for this batch and store it in the lists for fold level losses\n",
    "            train_mse = np.mean((train_x_fold.dot(w) - train_y_fold) ** 2)\n",
    "            fold_training_loss.append(train_mse)\n",
    "            \n",
    "            valid_mse = np.mean((valid_x_fold.dot(w) - valid_y_fold) ** 2)\n",
    "            fold_val_loss.append(valid_mse)\n",
    "    \n",
    "        #calculate the training loss and validation loss for this iteration by averageing the training loss and validation loss from the folds level lists\n",
    "        training_loss.append(np.average(fold_training_loss))\n",
    "        valid_loss.append(np.average(fold_val_loss))  \n",
    "         \n",
    "        if iter%50 == 0: \n",
    "            print(f'epoch number: {iter}, t loss: {training_loss[-1]}, v loss: {valid_loss[-1]}' )\n",
    "    return (w, training_loss, valid_loss)  "
   ]
  },
  {
   "cell_type": "code",
   "execution_count": 18,
   "metadata": {},
   "outputs": [
    {
     "name": "stdout",
     "output_type": "stream",
     "text": [
      "epoch number: 0, t loss: 65720.83534913449, v loss: 65735.91173235992\n",
      "epoch number: 50, t loss: 15861.193140932979, v loss: 15862.575650485176\n",
      "epoch number: 100, t loss: 12363.454139273983, v loss: 12363.721119091713\n",
      "epoch number: 150, t loss: 12046.63521987545, v loss: 12046.806360729408\n",
      "epoch number: 200, t loss: 12009.115901498253, v loss: 12009.282130026762\n",
      "epoch number: 250, t loss: 12000.845562867455, v loss: 12001.013732057092\n",
      "epoch number: 300, t loss: 11997.299220674262, v loss: 11997.468586794837\n",
      "epoch number: 350, t loss: 11995.23929547463, v loss: 11995.409053738273\n",
      "epoch number: 400, t loss: 11993.903134451613, v loss: 11994.072873807207\n",
      "epoch number: 450, t loss: 11992.9840221404, v loss: 11993.153566845474\n",
      "epoch number: 500, t loss: 11992.323606359178, v loss: 11992.492895105102\n",
      "epoch number: 550, t loss: 11991.831286178853, v loss: 11992.00030998341\n",
      "epoch number: 600, t loss: 11991.452164098597, v loss: 11991.620936674886\n",
      "epoch number: 650, t loss: 11991.15158143755, v loss: 11991.320125251386\n",
      "epoch number: 700, t loss: 11990.906934619057, v loss: 11991.075274362302\n",
      "epoch number: 750, t loss: 11990.703079230605, v loss: 11990.871238834357\n",
      "epoch number: 800, t loss: 11990.52962871239, v loss: 11990.69763007738\n",
      "epoch number: 850, t loss: 11990.379308209884, v loss: 11990.547170777581\n",
      "epoch number: 900, t loss: 11990.24692219238, v loss: 11990.414662923633\n",
      "epoch number: 950, t loss: 11990.128691778134, v loss: 11990.296325320145\n",
      "epoch number: 1000, t loss: 11990.021820959213, v loss: 11990.189359888484\n",
      "epoch number: 1050, t loss: 11989.924207656632, v loss: 11990.091662740382\n",
      "epoch number: 1100, t loss: 11989.834248055875, v loss: 11990.00162850362\n",
      "epoch number: 1150, t loss: 11989.75070195702, v loss: 11989.91801564943\n",
      "epoch number: 1200, t loss: 11989.672598612477, v loss: 11989.839852302899\n",
      "epoch number: 1250, t loss: 11989.59916981399, v loss: 11989.766369302402\n",
      "epoch number: 1300, t loss: 11989.529801585266, v loss: 11989.696951866465\n",
      "epoch number: 1350, t loss: 11989.463998768455, v loss: 11989.631104157294\n",
      "epoch number: 1400, t loss: 11989.401358683719, v loss: 11989.56842292036\n",
      "epoch number: 1450, t loss: 11989.341551272624, v loss: 11989.50857761071\n",
      "epoch number: 1500, t loss: 11989.284303946586, v loss: 11989.451295227016\n",
      "epoch number: 1550, t loss: 11989.229389900493, v loss: 11989.396348613129\n",
      "epoch number: 1600, t loss: 11989.176619014286, v loss: 11989.34354734956\n",
      "epoch number: 1650, t loss: 11989.12583071234, v loss: 11989.292730604515\n",
      "epoch number: 1700, t loss: 11989.076888321068, v loss: 11989.243761484542\n",
      "epoch number: 1750, t loss: 11989.029674584823, v loss: 11989.196522544682\n",
      "epoch number: 1800, t loss: 11988.98408808518, v loss: 11989.150912202951\n",
      "epoch number: 1850, t loss: 11988.940040370002, v loss: 11989.10684186546\n",
      "epoch number: 1900, t loss: 11988.897453643827, v loss: 11989.064233613479\n",
      "epoch number: 1950, t loss: 11988.856258904354, v loss: 11989.023018337191\n"
     ]
    }
   ],
   "source": [
    "# Train the model using ridge \n",
    "theta_ridge, train_loss, val_loss = ridge(x_train_int, y_train.values)"
   ]
  },
  {
   "cell_type": "code",
   "execution_count": 19,
   "metadata": {},
   "outputs": [
    {
     "data": {
      "text/plain": [
       "Text(0, 0.5, 'Loss')"
      ]
     },
     "execution_count": 19,
     "metadata": {},
     "output_type": "execute_result"
    },
    {
     "data": {
      "image/png": "[encoded data removed]",
      "text/plain": [
       "<Figure size 640x480 with 1 Axes>"
      ]
     },
     "metadata": {},
     "output_type": "display_data"
    }
   ],
   "source": [
    "# plot training loss vs validation loss \n",
    "ax = sns.lineplot(x = range(0,2000), y = train_loss)\n",
    "sns.lineplot(x = range(0,2000), y = val_loss, ax = ax)\n",
    "ax.set_xlabel('Epochs')\n",
    "ax.set_ylabel('Loss')"
   ]
  }
 ],
 "metadata": {
  "kernelspec": {
   "display_name": "base",
   "language": "python",
   "name": "python3"
  },
  "language_info": {
   "codemirror_mode": {
    "name": "ipython",
    "version": 3
   },
   "file_extension": ".py",
   "mimetype": "text/x-python",
   "name": "python",
   "nbconvert_exporter": "python",
   "pygments_lexer": "ipython3",
   "version": "3.12.4"
  }
 },
 "nbformat": 4,
 "nbformat_minor": 2
}
